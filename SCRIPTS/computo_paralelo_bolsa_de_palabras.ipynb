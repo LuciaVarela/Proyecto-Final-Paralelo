{
 "cells": [
  {
   "cell_type": "markdown",
   "metadata": {
    "id": "I91ZHcL0HNg0"
   },
   "source": [
    "# Librerías"
   ]
  },
  {
   "cell_type": "code",
   "execution_count": 1,
   "metadata": {
    "id": "GXaVJCQoHNg2"
   },
   "outputs": [],
   "source": [
    "import pandas as pd\n",
    "import numpy as np\n",
    "import re\n",
    "import nltk\n",
    "import matplotlib.pyplot as plt\n",
    "from sklearn.feature_extraction.text import CountVectorizer"
   ]
  },
  {
   "cell_type": "markdown",
   "metadata": {
    "id": "kZeM22TMHNg2"
   },
   "source": [
    "# Corpus etiquetado"
   ]
  },
  {
   "cell_type": "code",
   "execution_count": 2,
   "metadata": {
    "colab": {
     "base_uri": "https://localhost:8080/",
     "height": 237
    },
    "id": "gLsxgk03HNg2",
    "outputId": "26882ee5-29e7-4fb7-f125-44c089956b9e"
   },
   "outputs": [
    {
     "data": {
      "text/html": [
       "<div>\n",
       "<style scoped>\n",
       "    .dataframe tbody tr th:only-of-type {\n",
       "        vertical-align: middle;\n",
       "    }\n",
       "\n",
       "    .dataframe tbody tr th {\n",
       "        vertical-align: top;\n",
       "    }\n",
       "\n",
       "    .dataframe thead th {\n",
       "        text-align: right;\n",
       "    }\n",
       "</style>\n",
       "<table border=\"1\" class=\"dataframe\">\n",
       "  <thead>\n",
       "    <tr style=\"text-align: right;\">\n",
       "      <th></th>\n",
       "      <th>documento</th>\n",
       "      <th>categoria</th>\n",
       "    </tr>\n",
       "  </thead>\n",
       "  <tbody>\n",
       "    <tr>\n",
       "      <th>0</th>\n",
       "      <td>project,gutenberg,ebook,christmas,carol,charle...</td>\n",
       "      <td>dickens_a_christmas_carol</td>\n",
       "    </tr>\n",
       "    <tr>\n",
       "      <th>1</th>\n",
       "      <td>project,gutenberg,ebook,tale,two,city,charles,...</td>\n",
       "      <td>dickens_a_tale_of_two_cities</td>\n",
       "    </tr>\n",
       "    <tr>\n",
       "      <th>2</th>\n",
       "      <td>project,gutenberg,ebook,oliver,twist,charles,d...</td>\n",
       "      <td>dickens_oliver_twist</td>\n",
       "    </tr>\n",
       "    <tr>\n",
       "      <th>3</th>\n",
       "      <td>project,gutenberg,ebook,hamlet,william,shakesp...</td>\n",
       "      <td>shakespeare_hamlet</td>\n",
       "    </tr>\n",
       "    <tr>\n",
       "      <th>4</th>\n",
       "      <td>project,gutenberg,ebook,romeo,juliet,william,s...</td>\n",
       "      <td>shakespeare_romeo_juliet</td>\n",
       "    </tr>\n",
       "    <tr>\n",
       "      <th>5</th>\n",
       "      <td>project,gutenberg,ebook,merchant,venice,willia...</td>\n",
       "      <td>shakespeare_the_merchant_of_venice</td>\n",
       "    </tr>\n",
       "  </tbody>\n",
       "</table>\n",
       "</div>"
      ],
      "text/plain": [
       "                                           documento  \\\n",
       "0  project,gutenberg,ebook,christmas,carol,charle...   \n",
       "1  project,gutenberg,ebook,tale,two,city,charles,...   \n",
       "2  project,gutenberg,ebook,oliver,twist,charles,d...   \n",
       "3  project,gutenberg,ebook,hamlet,william,shakesp...   \n",
       "4  project,gutenberg,ebook,romeo,juliet,william,s...   \n",
       "5  project,gutenberg,ebook,merchant,venice,willia...   \n",
       "\n",
       "                            categoria  \n",
       "0           dickens_a_christmas_carol  \n",
       "1        dickens_a_tale_of_two_cities  \n",
       "2                dickens_oliver_twist  \n",
       "3                  shakespeare_hamlet  \n",
       "4            shakespeare_romeo_juliet  \n",
       "5  shakespeare_the_merchant_of_venice  "
      ]
     },
     "execution_count": 2,
     "metadata": {},
     "output_type": "execute_result"
    }
   ],
   "source": [
    "etiquetas = [\"dickens_a_christmas_carol\",\n",
    "             \"dickens_a_tale_of_two_cities\",\n",
    "             \"dickens_oliver_twist\",\n",
    "             \"shakespeare_hamlet\",\n",
    "             \"shakespeare_romeo_juliet\",\n",
    "             \"shakespeare_the_merchant_of_venice\"]\n",
    "corpus = []\n",
    "\n",
    "for etiqueta in etiquetas:\n",
    "  archivo = open(\"libros/\" + etiqueta + \".txt\", \"r\")\n",
    "  corpus.append(archivo.read())\n",
    "  archivo.close()\n",
    "\n",
    "\n",
    "corpus = np.array(corpus)\n",
    "df_corpus = pd.DataFrame({\"documento\": corpus,\n",
    "                          \"categoria\": etiquetas})\n",
    "df_corpus"
   ]
  },
  {
   "cell_type": "markdown",
   "metadata": {
    "id": "Oc39WakxHNg4"
   },
   "source": [
    "# Modelo de Bolsa de Palabras"
   ]
  },
  {
   "cell_type": "code",
   "execution_count": 3,
   "metadata": {
    "colab": {
     "base_uri": "https://localhost:8080/"
    },
    "id": "rPXPWGO3HNg4",
    "outputId": "050651f9-9379-4765-a6a7-95bf99fbe69a"
   },
   "outputs": [
    {
     "data": {
      "text/plain": [
       "<Compressed Sparse Row sparse matrix of dtype 'int64'\n",
       "\twith 30424 stored elements and shape (6, 15164)>"
      ]
     },
     "execution_count": 3,
     "metadata": {},
     "output_type": "execute_result"
    }
   ],
   "source": [
    "# bolsa de palabras en matriz dispersa\n",
    "count_vectorizer = CountVectorizer(min_df=0.0, max_df=1.0)\n",
    "matriz_conteo = count_vectorizer.fit_transform(corpus)\n",
    "matriz_conteo"
   ]
  },
  {
   "cell_type": "code",
   "execution_count": 4,
   "metadata": {
    "colab": {
     "base_uri": "https://localhost:8080/"
    },
    "id": "rrn5A4sVHNg4",
    "outputId": "cdea42cf-3c22-4d5c-dbaf-bf8c08c223b0"
   },
   "outputs": [
    {
     "name": "stdout",
     "output_type": "stream",
     "text": [
      "<Compressed Sparse Row sparse matrix of dtype 'int64'\n",
      "\twith 30424 stored elements and shape (6, 15164)>\n",
      "  Coords\tValues\n",
      "  (0, 10315)\t89\n",
      "  (0, 6108)\t95\n",
      "  (0, 4317)\t20\n",
      "  (0, 2370)\t97\n",
      "  (0, 2094)\t9\n",
      "  (0, 2250)\t5\n",
      "  (0, 3735)\t2\n",
      "  (0, 2159)\t1\n",
      "  (0, 15082)\t2\n",
      "  (0, 1591)\t1\n",
      "  (0, 8214)\t26\n",
      "  (0, 13475)\t19\n",
      "  (0, 178)\t2\n",
      "  (0, 13227)\t13\n",
      "  (0, 567)\t13\n",
      "  (0, 7486)\t2\n",
      "  (0, 1710)\t7\n",
      "  (0, 6117)\t1\n",
      "  (0, 6118)\t1\n",
      "  (0, 6119)\t1\n",
      "  (0, 6120)\t1\n",
      "  (0, 6121)\t1\n",
      "  (0, 6122)\t1\n",
      "  (0, 2172)\t14\n",
      "  (0, 6283)\t5\n",
      "  :\t:\n",
      "  (5, 12639)\t1\n",
      "  (5, 4629)\t1\n",
      "  (5, 1976)\t1\n",
      "  (5, 15036)\t1\n",
      "  (5, 4513)\t1\n",
      "  (5, 1070)\t1\n",
      "  (5, 3253)\t1\n",
      "  (5, 13697)\t1\n",
      "  (5, 730)\t1\n",
      "  (5, 5710)\t1\n",
      "  (5, 10074)\t2\n",
      "  (5, 11587)\t1\n",
      "  (5, 1329)\t5\n",
      "  (5, 9004)\t1\n",
      "  (5, 15012)\t1\n",
      "  (5, 3920)\t1\n",
      "  (5, 4522)\t1\n",
      "  (5, 848)\t1\n",
      "  (5, 1303)\t2\n",
      "  (5, 8513)\t1\n",
      "  (5, 450)\t1\n",
      "  (5, 14086)\t1\n",
      "  (5, 8185)\t1\n",
      "  (5, 5686)\t1\n",
      "  (5, 5687)\t1\n"
     ]
    }
   ],
   "source": [
    "# ver valores diferentes de cero en la matriz dispersa\n",
    "print(matriz_conteo)"
   ]
  },
  {
   "cell_type": "code",
   "execution_count": 5,
   "metadata": {
    "colab": {
     "base_uri": "https://localhost:8080/"
    },
    "id": "OzmdRBZ_HNg5",
    "outputId": "95563555-161a-4b37-e597-9649d9012107"
   },
   "outputs": [
    {
     "data": {
      "text/plain": [
       "array([[1, 1, 0, ..., 1, 0, 0],\n",
       "       [1, 0, 0, ..., 1, 0, 0],\n",
       "       [1, 0, 0, ..., 0, 0, 0],\n",
       "       [3, 0, 1, ..., 2, 1, 0],\n",
       "       [3, 0, 0, ..., 1, 0, 2],\n",
       "       [1, 0, 0, ..., 0, 0, 0]])"
      ]
     },
     "execution_count": 5,
     "metadata": {},
     "output_type": "execute_result"
    }
   ],
   "source": [
    "# ver la representación densa\n",
    "matriz_conteo = matriz_conteo.toarray()\n",
    "matriz_conteo"
   ]
  },
  {
   "cell_type": "code",
   "execution_count": 6,
   "metadata": {
    "colab": {
     "base_uri": "https://localhost:8080/",
     "height": 287
    },
    "id": "_tyv80qCHNg5",
    "outputId": "f58c62c2-d6d2-4982-8aac-24160d4cee27"
   },
   "outputs": [
    {
     "data": {
      "text/html": [
       "<div>\n",
       "<style scoped>\n",
       "    .dataframe tbody tr th:only-of-type {\n",
       "        vertical-align: middle;\n",
       "    }\n",
       "\n",
       "    .dataframe tbody tr th {\n",
       "        vertical-align: top;\n",
       "    }\n",
       "\n",
       "    .dataframe thead th {\n",
       "        text-align: right;\n",
       "    }\n",
       "</style>\n",
       "<table border=\"1\" class=\"dataframe\">\n",
       "  <thead>\n",
       "    <tr style=\"text-align: right;\">\n",
       "      <th></th>\n",
       "      <th>000</th>\n",
       "      <th>00033</th>\n",
       "      <th>04</th>\n",
       "      <th>08</th>\n",
       "      <th>0em</th>\n",
       "      <th>10</th>\n",
       "      <th>100</th>\n",
       "      <th>101</th>\n",
       "      <th>102</th>\n",
       "      <th>103</th>\n",
       "      <th>...</th>\n",
       "      <th>yourn</th>\n",
       "      <th>youth</th>\n",
       "      <th>youthful</th>\n",
       "      <th>youthfulness</th>\n",
       "      <th>zeal</th>\n",
       "      <th>zealous</th>\n",
       "      <th>zenith</th>\n",
       "      <th>zip</th>\n",
       "      <th>zone</th>\n",
       "      <th>zounds</th>\n",
       "    </tr>\n",
       "  </thead>\n",
       "  <tbody>\n",
       "    <tr>\n",
       "      <th>0</th>\n",
       "      <td>1</td>\n",
       "      <td>1</td>\n",
       "      <td>0</td>\n",
       "      <td>0</td>\n",
       "      <td>0</td>\n",
       "      <td>2</td>\n",
       "      <td>2</td>\n",
       "      <td>1</td>\n",
       "      <td>1</td>\n",
       "      <td>1</td>\n",
       "      <td>...</td>\n",
       "      <td>0</td>\n",
       "      <td>1</td>\n",
       "      <td>0</td>\n",
       "      <td>0</td>\n",
       "      <td>1</td>\n",
       "      <td>0</td>\n",
       "      <td>0</td>\n",
       "      <td>1</td>\n",
       "      <td>0</td>\n",
       "      <td>0</td>\n",
       "    </tr>\n",
       "    <tr>\n",
       "      <th>1</th>\n",
       "      <td>1</td>\n",
       "      <td>0</td>\n",
       "      <td>0</td>\n",
       "      <td>0</td>\n",
       "      <td>0</td>\n",
       "      <td>2</td>\n",
       "      <td>0</td>\n",
       "      <td>0</td>\n",
       "      <td>0</td>\n",
       "      <td>0</td>\n",
       "      <td>...</td>\n",
       "      <td>1</td>\n",
       "      <td>10</td>\n",
       "      <td>3</td>\n",
       "      <td>1</td>\n",
       "      <td>0</td>\n",
       "      <td>2</td>\n",
       "      <td>0</td>\n",
       "      <td>1</td>\n",
       "      <td>0</td>\n",
       "      <td>0</td>\n",
       "    </tr>\n",
       "    <tr>\n",
       "      <th>2</th>\n",
       "      <td>1</td>\n",
       "      <td>0</td>\n",
       "      <td>0</td>\n",
       "      <td>0</td>\n",
       "      <td>2</td>\n",
       "      <td>0</td>\n",
       "      <td>0</td>\n",
       "      <td>0</td>\n",
       "      <td>0</td>\n",
       "      <td>0</td>\n",
       "      <td>...</td>\n",
       "      <td>0</td>\n",
       "      <td>9</td>\n",
       "      <td>6</td>\n",
       "      <td>0</td>\n",
       "      <td>0</td>\n",
       "      <td>2</td>\n",
       "      <td>1</td>\n",
       "      <td>0</td>\n",
       "      <td>0</td>\n",
       "      <td>0</td>\n",
       "    </tr>\n",
       "    <tr>\n",
       "      <th>3</th>\n",
       "      <td>3</td>\n",
       "      <td>0</td>\n",
       "      <td>1</td>\n",
       "      <td>0</td>\n",
       "      <td>0</td>\n",
       "      <td>2</td>\n",
       "      <td>3</td>\n",
       "      <td>0</td>\n",
       "      <td>0</td>\n",
       "      <td>0</td>\n",
       "      <td>...</td>\n",
       "      <td>0</td>\n",
       "      <td>14</td>\n",
       "      <td>0</td>\n",
       "      <td>0</td>\n",
       "      <td>0</td>\n",
       "      <td>0</td>\n",
       "      <td>0</td>\n",
       "      <td>2</td>\n",
       "      <td>1</td>\n",
       "      <td>0</td>\n",
       "    </tr>\n",
       "    <tr>\n",
       "      <th>4</th>\n",
       "      <td>3</td>\n",
       "      <td>0</td>\n",
       "      <td>0</td>\n",
       "      <td>1</td>\n",
       "      <td>0</td>\n",
       "      <td>2</td>\n",
       "      <td>1</td>\n",
       "      <td>0</td>\n",
       "      <td>0</td>\n",
       "      <td>0</td>\n",
       "      <td>...</td>\n",
       "      <td>0</td>\n",
       "      <td>6</td>\n",
       "      <td>3</td>\n",
       "      <td>0</td>\n",
       "      <td>0</td>\n",
       "      <td>0</td>\n",
       "      <td>0</td>\n",
       "      <td>1</td>\n",
       "      <td>0</td>\n",
       "      <td>2</td>\n",
       "    </tr>\n",
       "    <tr>\n",
       "      <th>5</th>\n",
       "      <td>1</td>\n",
       "      <td>0</td>\n",
       "      <td>0</td>\n",
       "      <td>0</td>\n",
       "      <td>2</td>\n",
       "      <td>0</td>\n",
       "      <td>0</td>\n",
       "      <td>0</td>\n",
       "      <td>0</td>\n",
       "      <td>0</td>\n",
       "      <td>...</td>\n",
       "      <td>0</td>\n",
       "      <td>8</td>\n",
       "      <td>1</td>\n",
       "      <td>0</td>\n",
       "      <td>1</td>\n",
       "      <td>0</td>\n",
       "      <td>0</td>\n",
       "      <td>0</td>\n",
       "      <td>0</td>\n",
       "      <td>0</td>\n",
       "    </tr>\n",
       "  </tbody>\n",
       "</table>\n",
       "<p>6 rows × 15164 columns</p>\n",
       "</div>"
      ],
      "text/plain": [
       "   000  00033  04  08  0em  10  100  101  102  103  ...  yourn  youth  \\\n",
       "0    1      1   0   0    0   2    2    1    1    1  ...      0      1   \n",
       "1    1      0   0   0    0   2    0    0    0    0  ...      1     10   \n",
       "2    1      0   0   0    2   0    0    0    0    0  ...      0      9   \n",
       "3    3      0   1   0    0   2    3    0    0    0  ...      0     14   \n",
       "4    3      0   0   1    0   2    1    0    0    0  ...      0      6   \n",
       "5    1      0   0   0    2   0    0    0    0    0  ...      0      8   \n",
       "\n",
       "   youthful  youthfulness  zeal  zealous  zenith  zip  zone  zounds  \n",
       "0         0             0     1        0       0    1     0       0  \n",
       "1         3             1     0        2       0    1     0       0  \n",
       "2         6             0     0        2       1    0     0       0  \n",
       "3         0             0     0        0       0    2     1       0  \n",
       "4         3             0     0        0       0    1     0       2  \n",
       "5         1             0     1        0       0    0     0       0  \n",
       "\n",
       "[6 rows x 15164 columns]"
      ]
     },
     "execution_count": 6,
     "metadata": {},
     "output_type": "execute_result"
    }
   ],
   "source": [
    "# obten todas las palabras únicas del corpus\n",
    "vocabulario = count_vectorizer.get_feature_names_out()\n",
    "# muestra los vectores de características del documento\n",
    "pd.DataFrame(matriz_conteo, columns=vocabulario)"
   ]
  },
  {
   "cell_type": "markdown",
   "metadata": {
    "id": "XUSYpkbLwUIl"
   },
   "source": [
    "#Vocabulario (número de columnas de la matriz)"
   ]
  },
  {
   "cell_type": "code",
   "execution_count": 7,
   "metadata": {
    "colab": {
     "base_uri": "https://localhost:8080/"
    },
    "id": "7yhoSszswSoP",
    "outputId": "0a1111d6-6d7a-4a7e-a8da-91531fb8cdc7"
   },
   "outputs": [
    {
     "name": "stdout",
     "output_type": "stream",
     "text": [
      "15164 ['000' '00033' '04' ... 'zip' 'zone' 'zounds']\n"
     ]
    }
   ],
   "source": [
    "print(len(vocabulario), vocabulario)\n",
    "\n",
    "np.savetxt(\"vocab.txt\", vocabulario, fmt=\"%s\", delimiter=\",\")"
   ]
  }
 ],
 "metadata": {
  "anaconda-cloud": {},
  "colab": {
   "provenance": []
  },
  "kernelspec": {
   "display_name": "paralelo2024",
   "language": "python",
   "name": "python3"
  },
  "language_info": {
   "codemirror_mode": {
    "name": "ipython",
    "version": 3
   },
   "file_extension": ".py",
   "mimetype": "text/x-python",
   "name": "python",
   "nbconvert_exporter": "python",
   "pygments_lexer": "ipython3",
   "version": "3.12.5"
  }
 },
 "nbformat": 4,
 "nbformat_minor": 0
}
